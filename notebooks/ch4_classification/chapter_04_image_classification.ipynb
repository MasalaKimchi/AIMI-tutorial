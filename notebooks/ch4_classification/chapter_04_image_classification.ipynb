{
 "cells": [
  {
   "cell_type": "markdown",
   "id": "8b2f109e",
   "metadata": {},
   "source": [
    "# Chapter 4: Image Classification with Medical X-rays\n",
    "This notebook demonstrates a simple machine learning pipeline using publicly available chest X-ray images. We create a small dataset from the [COVID-19 chest x-ray dataset](https://github.com/ieee8023/covid-chestxray-dataset) and build a classifier to distinguish COVID-19 from other findings."
   ]
  },
  {
   "cell_type": "markdown",
   "id": "26c6dc87",
   "metadata": {},
   "source": [
    "## Download sample data\n",
    "We fetch a handful of radiographs and organize them into `data/covid` and `data/noncovid` folders."
   ]
  },
  {
   "cell_type": "code",
   "execution_count": 1,
   "id": "700cca2e",
   "metadata": {
    "execution": {
     "iopub.execute_input": "2025-06-14T08:03:54.915727Z",
     "iopub.status.busy": "2025-06-14T08:03:54.915497Z",
     "iopub.status.idle": "2025-06-14T08:03:54.997093Z",
     "shell.execute_reply": "2025-06-14T08:03:54.996322Z"
    }
   },
   "outputs": [
    {
     "name": "stdout",
     "output_type": "stream",
     "text": [
      "metadata.csv ready\n"
     ]
    }
   ],
   "source": [
    "import os, requests\n",
    "if not os.path.exists('metadata.csv'):\n",
    "    url = 'https://raw.githubusercontent.com/ieee8023/covid-chestxray-dataset/master/metadata.csv'\n",
    "    r = requests.get(url)\n",
    "    open('metadata.csv','wb').write(r.content)\n",
    "print('metadata.csv ready')"
   ]
  },
  {
   "cell_type": "code",
   "execution_count": 2,
   "id": "7b012993",
   "metadata": {
    "execution": {
     "iopub.execute_input": "2025-06-14T08:03:54.999654Z",
     "iopub.status.busy": "2025-06-14T08:03:54.999410Z",
     "iopub.status.idle": "2025-06-14T08:03:55.358642Z",
     "shell.execute_reply": "2025-06-14T08:03:55.357744Z"
    }
   },
   "outputs": [
    {
     "name": "stdout",
     "output_type": "stream",
     "text": [
      "Images downloaded: 10 10\n"
     ]
    }
   ],
   "source": [
    "import os, pandas as pd, requests\n",
    "from pathlib import Path\n",
    "\n",
    "url_prefix = 'https://raw.githubusercontent.com/ieee8023/covid-chestxray-dataset/master/'\n",
    "\n",
    "df = pd.read_csv('metadata.csv')\n",
    "\n",
    "covid = df[df['finding']=='Pneumonia/Viral/COVID-19'].head(10)\n",
    "noncovid = df[df['finding']!='Pneumonia/Viral/COVID-19'].head(10)\n",
    "Path('data/covid').mkdir(parents=True, exist_ok=True)\n",
    "Path('data/noncovid').mkdir(parents=True, exist_ok=True)\n",
    "\n",
    "for _, row in covid.iterrows():\n",
    "    url = url_prefix + row['folder'] + '/' + row['filename']\n",
    "    p = Path('data/covid')/row['filename']\n",
    "    if not p.exists():\n",
    "        r = requests.get(url)\n",
    "        if r.status_code==200:\n",
    "            p.write_bytes(r.content)\n",
    "\n",
    "for _, row in noncovid.iterrows():\n",
    "    url = url_prefix + row['folder'] + '/' + row['filename']\n",
    "    p = Path('data/noncovid')/row['filename']\n",
    "    if not p.exists():\n",
    "        r = requests.get(url)\n",
    "        if r.status_code==200:\n",
    "            p.write_bytes(r.content)\n",
    "print('Images downloaded:', len(os.listdir('data/covid')), len(os.listdir('data/noncovid')))"
   ]
  },
  {
   "cell_type": "markdown",
   "id": "e80287d0",
   "metadata": {},
   "source": [
    "## Prepare dataset\n",
    "We load each image, convert to grayscale and resize to 64x64 pixels so that simple algorithms like Support Vector Machines can handle them."
   ]
  },
  {
   "cell_type": "code",
   "execution_count": 3,
   "id": "029c11eb",
   "metadata": {
    "execution": {
     "iopub.execute_input": "2025-06-14T08:03:55.390924Z",
     "iopub.status.busy": "2025-06-14T08:03:55.380154Z",
     "iopub.status.idle": "2025-06-14T08:03:56.646798Z",
     "shell.execute_reply": "2025-06-14T08:03:56.645683Z"
    }
   },
   "outputs": [
    {
     "name": "stdout",
     "output_type": "stream",
     "text": [
      "Train size: 14 Test size: 6\n"
     ]
    }
   ],
   "source": [
    "from PIL import Image\n",
    "import numpy as np\n",
    "from sklearn.model_selection import train_test_split\n",
    "from sklearn.preprocessing import StandardScaler\n",
    "from sklearn.svm import SVC\n",
    "from sklearn.metrics import classification_report\n",
    "\n",
    "X = []\n",
    "y = []\n",
    "for label, folder in enumerate(['covid', 'noncovid']):\n",
    "    for fname in os.listdir('data/'+folder):\n",
    "        img = Image.open('data/'+folder+'/'+fname).convert('L').resize((64,64))\n",
    "        X.append(np.array(img).ravel())\n",
    "        y.append(label)\n",
    "X = np.array(X)\n",
    "y = np.array(y)\n",
    "\n",
    "X_train, X_test, y_train, y_test = train_test_split(X, y, test_size=0.3, random_state=42, stratify=y)\n",
    "scaler = StandardScaler()\n",
    "X_train = scaler.fit_transform(X_train)\n",
    "X_test = scaler.transform(X_test)\n",
    "clf = SVC(kernel='linear')\n",
    "clf.fit(X_train, y_train)\n",
    "print('Train size:', len(X_train), 'Test size:', len(X_test))"
   ]
  },
  {
   "cell_type": "markdown",
   "id": "a09c620a",
   "metadata": {},
   "source": [
    "## Evaluate model"
   ]
  },
  {
   "cell_type": "code",
   "execution_count": 4,
   "id": "f6d5ad84",
   "metadata": {
    "execution": {
     "iopub.execute_input": "2025-06-14T08:03:56.650245Z",
     "iopub.status.busy": "2025-06-14T08:03:56.649848Z",
     "iopub.status.idle": "2025-06-14T08:03:56.664194Z",
     "shell.execute_reply": "2025-06-14T08:03:56.662714Z"
    }
   },
   "outputs": [
    {
     "name": "stdout",
     "output_type": "stream",
     "text": [
      "              precision    recall  f1-score   support\n",
      "\n",
      "       COVID       1.00      0.67      0.80         3\n",
      "    NonCOVID       0.75      1.00      0.86         3\n",
      "\n",
      "    accuracy                           0.83         6\n",
      "   macro avg       0.88      0.83      0.83         6\n",
      "weighted avg       0.88      0.83      0.83         6\n",
      "\n"
     ]
    }
   ],
   "source": [
    "pred = clf.predict(X_test)\n",
    "print(classification_report(y_test, pred, target_names=['COVID','NonCOVID']))"
   ]
  },
  {
   "cell_type": "markdown",
   "id": "c4edcd99",
   "metadata": {},
   "source": [
    "## Summary\n",
    "This simple pipeline illustrates the fundamentals of medical image classification:\n",
    "- Acquire and organize labeled images\n",
    "- Convert images to a standard size\n",
    "- Train a conventional machine learning model\n",
    "While real-world tasks require much larger datasets and more sophisticated models, the same core steps apply."
   ]
  }
 ],
 "metadata": {
  "language_info": {
   "codemirror_mode": {
    "name": "ipython",
    "version": 3
   },
   "file_extension": ".py",
   "mimetype": "text/x-python",
   "name": "python",
   "nbconvert_exporter": "python",
   "pygments_lexer": "ipython3",
   "version": "3.11.12"
  }
 },
 "nbformat": 4,
 "nbformat_minor": 5
}
