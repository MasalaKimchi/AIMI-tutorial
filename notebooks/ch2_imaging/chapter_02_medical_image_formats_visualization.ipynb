    "DATA_DIR = os.path.join(os.path.dirname(os.getcwd()), \n",
    "                       \"data/example-dicom-structural/dicoms\")\n",
    "\n",
    "# Fall back to nibabel's test data if the directory is missing\n",
    "if not os.path.exists(DATA_DIR):\n",
    "    from nibabel.testing import data_path as nib_test_data\n",
    "    DATA_DIR = nib_test_data\n",
    "    print(f'Using nibabel test data at {DATA_DIR}')\n"
